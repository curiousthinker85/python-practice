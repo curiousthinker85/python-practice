{
 "cells": [
  {
   "cell_type": "code",
   "execution_count": 4,
   "metadata": {},
   "outputs": [
    {
     "name": "stdout",
     "output_type": "stream",
     "text": [
      "Sum of 25 and 78 is 2578\n"
     ]
    }
   ],
   "source": [
    "num1  = input('enter the num 1 : ')\n",
    "num2 = input(\"enter the num 2: \")\n",
    "\n",
    "sum = num1 + num2\n",
    "print(\"Sum of\",num1, \"and\", num2 , \"is\", sum)"
   ]
  },
  {
   "cell_type": "code",
   "execution_count": 7,
   "metadata": {},
   "outputs": [
    {
     "name": "stdout",
     "output_type": "stream",
     "text": [
      "7\n"
     ]
    }
   ],
   "source": [
    "add_num = lambda x, y : x + y\n",
    "\n",
    "num1 = 3\n",
    "num2 = 4\n",
    "\n",
    "result = add_num(num1, num2)\n",
    "\n",
    "print(result)"
   ]
  },
  {
   "cell_type": "code",
   "execution_count": 12,
   "metadata": {},
   "outputs": [
    {
     "name": "stdout",
     "output_type": "stream",
     "text": [
      "89\n"
     ]
    }
   ],
   "source": [
    "a = input(\"enter num: \")\n",
    "b = input(\"enter num: \")\n",
    "\n",
    "maximum = max(a,b)\n",
    "print(maximum)\n"
   ]
  },
  {
   "cell_type": "code",
   "execution_count": 13,
   "metadata": {},
   "outputs": [
    {
     "name": "stdout",
     "output_type": "stream",
     "text": [
      "9\n"
     ]
    }
   ],
   "source": [
    "def max(a,b):\n",
    "    return a + b\n",
    "\n",
    "x = 5\n",
    "y = 4\n",
    "\n",
    "maxima = max(x, y)\n",
    "\n",
    "print(maxima)"
   ]
  },
  {
   "cell_type": "code",
   "execution_count": 17,
   "metadata": {},
   "outputs": [
    {
     "name": "stdout",
     "output_type": "stream",
     "text": [
      "6 is a maximum number\n"
     ]
    }
   ],
   "source": [
    "a = 5 ;b = 6\n",
    "maxima = lambda a,b: a if a > b else b \n",
    "print(f'{maxima(a,b)} is a maximum number')"
   ]
  },
  {
   "cell_type": "code",
   "execution_count": 1,
   "metadata": {},
   "outputs": [
    {
     "name": "stdout",
     "output_type": "stream",
     "text": [
      "120\n"
     ]
    }
   ],
   "source": [
    "# factorial\n",
    "\n",
    "def factorial(n):\n",
    "\n",
    "    return 1 if (n ==1 or n == 0) else n * factorial(n-1)\n",
    "\n",
    "num = 5\n",
    "\n",
    "print(factorial(num))"
   ]
  },
  {
   "cell_type": "code",
   "execution_count": null,
   "metadata": {},
   "outputs": [],
   "source": []
  }
 ],
 "metadata": {
  "kernelspec": {
   "display_name": "Python 3",
   "language": "python",
   "name": "python3"
  },
  "language_info": {
   "codemirror_mode": {
    "name": "ipython",
    "version": 3
   },
   "file_extension": ".py",
   "mimetype": "text/x-python",
   "name": "python",
   "nbconvert_exporter": "python",
   "pygments_lexer": "ipython3",
   "version": "3.11.2"
  },
  "orig_nbformat": 4
 },
 "nbformat": 4,
 "nbformat_minor": 2
}
